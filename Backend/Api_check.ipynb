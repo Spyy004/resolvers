{
 "cells": [
  {
   "cell_type": "code",
   "execution_count": 1,
   "id": "a7898733",
   "metadata": {},
   "outputs": [],
   "source": [
    "import requests\n",
    "from requests.auth import HTTPBasicAuth"
   ]
  },
  {
   "cell_type": "code",
   "execution_count": 2,
   "id": "e59e6dc5",
   "metadata": {},
   "outputs": [],
   "source": [
    "new_user = {\n",
    "    \"username\": \"admin_test\",\n",
    "    \"email\": \"admin_test@bot.com\",\n",
    "    \"password\": \"Password@123\"\n",
    "}"
   ]
  },
  {
   "cell_type": "code",
   "execution_count": 3,
   "id": "4291175c",
   "metadata": {},
   "outputs": [
    {
     "name": "stdout",
     "output_type": "stream",
     "text": [
      "<Response [200]>\n"
     ]
    }
   ],
   "source": [
    "add_user = requests.post(\"https://ashish226.pythonanywhere.com/api/register/\",json=new_user)\n",
    "print(add_user)"
   ]
  },
  {
   "cell_type": "code",
   "execution_count": 4,
   "id": "4ca64dd4",
   "metadata": {},
   "outputs": [
    {
     "data": {
      "text/plain": [
       "{'user': {'id': 11, 'username': 'admin_test', 'email': 'admin_test@bot.com'},\n",
       " 'token': '130bc7c932e985705b284e085c31a32377766eb9a78ba8cf8ee2a1768662fbd5'}"
      ]
     },
     "execution_count": 4,
     "metadata": {},
     "output_type": "execute_result"
    }
   ],
   "source": [
    "add_user.json()"
   ]
  },
  {
   "cell_type": "code",
   "execution_count": 5,
   "id": "92d55226",
   "metadata": {},
   "outputs": [],
   "source": [
    "old_user = {\n",
    "    \"username\": \"admin_test\",\n",
    "    \"password\": \"Password@123\"\n",
    "}"
   ]
  },
  {
   "cell_type": "code",
   "execution_count": 6,
   "id": "497b68f3",
   "metadata": {},
   "outputs": [
    {
     "name": "stdout",
     "output_type": "stream",
     "text": [
      "<Response [200]>\n"
     ]
    }
   ],
   "source": [
    "login = requests.post(\"https://ashish226.pythonanywhere.com/api/login/\",json=old_user)\n",
    "print(login)"
   ]
  },
  {
   "cell_type": "code",
   "execution_count": 7,
   "id": "f4de2459",
   "metadata": {},
   "outputs": [
    {
     "data": {
      "text/plain": [
       "{'expiry': '2021-07-02T21:28:14.768588Z',\n",
       " 'token': '3dde820f84db365640f61169ecf79b4fec3f58c8ffcb7eac42b001b281644ef9'}"
      ]
     },
     "execution_count": 7,
     "metadata": {},
     "output_type": "execute_result"
    }
   ],
   "source": [
    "login.json()"
   ]
  },
  {
   "cell_type": "code",
   "execution_count": 8,
   "id": "dbfe5732",
   "metadata": {},
   "outputs": [
    {
     "name": "stdout",
     "output_type": "stream",
     "text": [
      "<Response [400]>\n"
     ]
    }
   ],
   "source": [
    "non_user = {\n",
    "    \"username\": \"not_in_database\",\n",
    "    \"password\": \"Password@123\"\n",
    "}\n",
    "\n",
    "login = requests.post(\"https://ashish226.pythonanywhere.com/api/login/\",json=non_user)\n",
    "print(login)"
   ]
  },
  {
   "cell_type": "code",
   "execution_count": 9,
   "id": "163efe4b",
   "metadata": {},
   "outputs": [
    {
     "data": {
      "text/plain": [
       "{'non_field_errors': ['Unable to log in with provided credentials.']}"
      ]
     },
     "execution_count": 9,
     "metadata": {},
     "output_type": "execute_result"
    }
   ],
   "source": [
    "login.json()"
   ]
  },
  {
   "cell_type": "code",
   "execution_count": 13,
   "id": "0fb5938f",
   "metadata": {},
   "outputs": [
    {
     "data": {
      "text/plain": [
       "<Response [200]>"
      ]
     },
     "execution_count": 13,
     "metadata": {},
     "output_type": "execute_result"
    }
   ],
   "source": [
    "article = requests.get(\"https://ashish226.pythonanywhere.com/api/article/\")\n",
    "article"
   ]
  },
  {
   "cell_type": "code",
   "execution_count": 14,
   "id": "73bee0b3",
   "metadata": {},
   "outputs": [
    {
     "data": {
      "text/plain": [
       "[{'id': 2,\n",
       "  'author': 12,\n",
       "  'title': 'Test2',\n",
       "  'content': 'Test2',\n",
       "  'created_on': '2021-07-02T19:58:27.863521+05:30',\n",
       "  'status': 1},\n",
       " {'id': 1,\n",
       "  'author': 3,\n",
       "  'title': 'Testing',\n",
       "  'content': 'This is a test',\n",
       "  'created_on': '2021-07-02T19:24:42.439418+05:30',\n",
       "  'status': 1}]"
      ]
     },
     "execution_count": 14,
     "metadata": {},
     "output_type": "execute_result"
    }
   ],
   "source": [
    "article.json()"
   ]
  },
  {
   "cell_type": "code",
   "execution_count": 15,
   "id": "6ae8f268",
   "metadata": {},
   "outputs": [
    {
     "data": {
      "text/plain": [
       "<Response [200]>"
      ]
     },
     "execution_count": 15,
     "metadata": {},
     "output_type": "execute_result"
    }
   ],
   "source": [
    "article_one = requests.get(\"https://ashish226.pythonanywhere.com/api/article/1/\")\n",
    "article_one"
   ]
  },
  {
   "cell_type": "code",
   "execution_count": 16,
   "id": "a7077779",
   "metadata": {},
   "outputs": [
    {
     "data": {
      "text/plain": [
       "{'id': 1,\n",
       " 'author': 3,\n",
       " 'title': 'Testing',\n",
       " 'content': 'This is a test',\n",
       " 'created_on': '2021-07-02T19:24:42.439418+05:30',\n",
       " 'status': 1}"
      ]
     },
     "execution_count": 16,
     "metadata": {},
     "output_type": "execute_result"
    }
   ],
   "source": [
    "article_one.json()"
   ]
  },
  {
   "cell_type": "code",
   "execution_count": null,
   "id": "af5250f9",
   "metadata": {},
   "outputs": [],
   "source": []
  }
 ],
 "metadata": {
  "kernelspec": {
   "display_name": "Python 3",
   "language": "python",
   "name": "python3"
  },
  "language_info": {
   "codemirror_mode": {
    "name": "ipython",
    "version": 3
   },
   "file_extension": ".py",
   "mimetype": "text/x-python",
   "name": "python",
   "nbconvert_exporter": "python",
   "pygments_lexer": "ipython3",
   "version": "3.8.8"
  }
 },
 "nbformat": 4,
 "nbformat_minor": 5
}
